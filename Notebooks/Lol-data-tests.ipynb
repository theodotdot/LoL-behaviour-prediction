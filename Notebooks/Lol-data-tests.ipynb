{
 "cells": [
  {
   "cell_type": "markdown",
   "metadata": {},
   "source": [
    "# In-game data extraction"
   ]
  },
  {
   "cell_type": "code",
   "execution_count": 432,
   "metadata": {},
   "outputs": [],
   "source": [
    "import pandas as pd \n",
    "import numpy as np \n",
    "import json\n",
    "import matplotlib.pyplot as plt \n",
    "import math"
   ]
  },
  {
   "cell_type": "code",
   "execution_count": 195,
   "metadata": {},
   "outputs": [],
   "source": [
    "from riotwatcher import LolWatcher, ApiError"
   ]
  },
  {
   "cell_type": "code",
   "execution_count": 212,
   "metadata": {},
   "outputs": [],
   "source": [
    "regions = {'na': 'na1', 'euw': 'euw1'}\n",
    "end_day = 1619820000 #timestamp for 05/01/2021\n",
    "queue_types = [420, 400] #id for ranked and normal draft games respectively"
   ]
  },
  {
   "cell_type": "code",
   "execution_count": 384,
   "metadata": {},
   "outputs": [],
   "source": [
    "lol_watcher = LolWatcher('RGAPI-a1bfb5bd-3c32-4d47-92c3-6e3d63031af4')"
   ]
  },
  {
   "cell_type": "code",
   "execution_count": 367,
   "metadata": {
    "tags": []
   },
   "outputs": [],
   "source": [
    "#we get the latest version of the game from data dragon\n",
    "versions = lol_watcher.data_dragon.versions_for_region('euw1')\n",
    "items_version = versions['n']['item']\n",
    "champs_version = versions['n']['champion']\n",
    "\n",
    "#we get the list of all the items in the game for that version\n",
    "items_list = lol_watcher.data_dragon.items(items_version)\n",
    "champs_list = lol_watcher.data_dragon.champions(champions_version, full=True)['keys']"
   ]
  },
  {
   "cell_type": "code",
   "execution_count": 390,
   "metadata": {},
   "outputs": [
    {
     "output_type": "execute_result",
     "data": {
      "text/plain": [
       "{'id': 'oPbFMVg2QF1T2wLXIVeCLnOk6ew7N09-uwDaSjsmgqiTUNDV',\n",
       " 'accountId': '_eehnHf80UaeYl4c4gu861zydcKf4VaiOaQKIWnB-6KBo1IiEVf7H_qG',\n",
       " 'puuid': '139dLumbZrsMMbrdp9qpZ55IO7meus_JKJUE2ExHI2uK7xorELhABI0zxNPxfFhwqVVEjd4W1sv89w',\n",
       " 'name': 'HydroSkydiver93',\n",
       " 'profileIconId': 4917,\n",
       " 'revisionDate': 1619990295646,\n",
       " 'summonerLevel': 144}"
      ]
     },
     "metadata": {},
     "execution_count": 390
    }
   ],
   "source": [
    "ids = lol_watcher.summoner.by_name(regions['euw'], 'hydroskydiver93')\n",
    "ids"
   ]
  },
  {
   "cell_type": "code",
   "execution_count": 288,
   "metadata": {
    "tags": []
   },
   "outputs": [],
   "source": [
    "matches = lol_watcher.match.matchlist_by_account(region = regions['euw'], encrypted_account_id = ids['accountId'], queue = queue_types)"
   ]
  },
  {
   "cell_type": "code",
   "execution_count": 433,
   "metadata": {},
   "outputs": [],
   "source": [
    "def get_player_stats_from_game(gameId, summonerName, region):\n",
    "    \"\"\"\n",
    "    Takes a game ID (int), a summoner name (str) and a region (str) and, through Riot Games' API, retrieves stats from the match from the player in the form of a single line dataframe.\n",
    "    Stats are: win, kda, kill participation (number of kills by the player vs all the kills from his team), death participation (same logic as for kills), killing sprees (number of times the player has killed multiple champions without dying), gold share (gold earned vs all the gold earned by the team), gold efficiency (gold earned vs value of inventory at the end of the game), role played\n",
    "    \"\"\"\n",
    "\n",
    "    #API request to get the match info\n",
    "    game = lol_watcher.match.by_id(region, gameId)\n",
    "\n",
    "    #Initiating variables\n",
    "    df = pd.DataFrame({'summonerName': [summonerName], 'gameId': [gameId], 'region': [region]})\n",
    "    n = None\n",
    "    total_dmg_dealt = 0 \n",
    "    total_dmg_taken = 0 \n",
    "    total_gold_earned = 0 \n",
    "    total_gold_spent = 0\n",
    "    total_kills = 0\n",
    "    total_deaths = 0\n",
    "\n",
    "    for i in range(0,10):\n",
    "        #Getting the index of the player we are interested in \n",
    "        if game['participantIdentities'][i]['player']['summonerName'].lower() == summonerName.lower():\n",
    "            n = i\n",
    "\n",
    "    for i in range(0,10):\n",
    "    #another for loop is necessary because we need to define n first\n",
    "        \n",
    "        if game['participants'][i]['stats']['win'] == game['participants'][n]['stats']['win']:\n",
    "            #Getting team stats of the game\n",
    "            total_dmg_dealt = total_dmg_dealt + game['participants'][i]['stats']['totalDamageDealtToChampions']\n",
    "            total_dmg_taken = total_dmg_taken + game['participants'][i]['stats']['totalDamageTaken']\n",
    "            total_kills = total_kills + game['participants'][i]['stats']['kills']\n",
    "            total_deaths = total_deaths + game['participants'][i]['stats']['deaths']\n",
    "            total_gold_earned = total_gold_earned + game['participants'][i]['stats']['goldEarned']\n",
    "            total_gold_spent = total_gold_spent + game['participants'][i]['stats']['goldSpent']\n",
    "\n",
    "    #Getting stats of our player\n",
    "    df['win'] = game['participants'][i]['stats']['win']\n",
    "    df['kda'] = (game['participants'][n]['stats']['kills'] + game['participants'][i]['stats']['assists']) / game['participants'][i]['stats']['deaths']\n",
    "    df['kill_participation'] = game['participants'][i]['stats']['kills'] / total_kills\n",
    "    df['death_participation'] = game['participants'][i]['stats']['deaths'] / total_deaths\n",
    "    df['killing_sprees'] = game['participants'][i]['stats']['killingSprees']\n",
    "    df['cs_permin@0-10'] = game['participants'][i]['timeline']['creepsPerMinDeltas']['0-10']\n",
    "    df['xp_permin@0-10'] = game['participants'][i]['timeline']['xpPerMinDeltas']['0-10']\n",
    "    df['dmgtaken_permin@0-10'] = game['participants'][i]['timeline']['damageTakenPerMinDeltas']['0-10']\n",
    "    #Checking if the game is longer than 20min (1200 seconds)\n",
    "    if game['gameDuration'] > 1200:\n",
    "        df['cs_permin@10-20'] = game['participants'][i]['timeline']['creepsPerMinDeltas']['10-20']\n",
    "        df['xp_permin@10-20'] = game['participants'][i]['timeline']['xpPerMinDeltas']['10-20']\n",
    "        df['dmgtaken_permin@10-20'] = game['participants'][i]['timeline']['damageTakenPerMinDeltas']['10-20']\n",
    "    else:\n",
    "        df['cs_permin@10-20'] = math.nan\n",
    "        df['xp_permin@10-20'] = math.nan\n",
    "        df['dmgtaken_permin@10-20'] = math.nan   \n",
    "\n",
    "\n",
    "\n",
    "    #getting the list of items in the player's inventory at the end of the game\n",
    "    items = [str(game1['participants'][n]['stats']['item0']), str(game1['participants'][n]['stats']['item1']), str(game1['participants'][n]['stats']['item2']), str(game1['participants'][n]['stats']['item3']), str(game1['participants'][n]['stats']['item4']), str(game1['participants'][n]['stats']['item5']), str(game1['participants'][n]['stats']['item6'])]\n",
    "    items_value = 0\n",
    "    for item in items:\n",
    "        if item != '0':\n",
    "            items_value = items_value + items_list['data'][item]['gold']['total']\n",
    "    df['gold_efficiency'] = items_value / game['participants'][i]['stats']['goldEarned']\n",
    "    df['gold_share'] = game['participants'][i]['stats']['goldEarned'] / total_gold_earned\n",
    "\n",
    "    #Getting the role of the player\n",
    "    if game['participants'][n]['timeline']['lane'] == 'BOTTOM':\n",
    "        if game['participants'][n]['timeline']['role'] == 'DUO_CARRY':\n",
    "            df['role'] = 'BOTTOM_CARRY'\n",
    "        else: df['role'] = 'BOTTOM_SUPPORT'\n",
    "    else: df['role'] = game['participants'][n]['timeline']['lane']\n",
    "\n",
    "    df['champion'] = champs_list[str(game['participants'][n]['championId'])]\n",
    "        \n",
    "    return df\n"
   ]
  },
  {
   "cell_type": "code",
   "execution_count": 395,
   "metadata": {},
   "outputs": [
    {
     "output_type": "execute_result",
     "data": {
      "text/plain": [
       "  summonerName      gameId region   win  kda  kill_participation  \\\n",
       "0  ThreeSTAGES  5241422413   euw1  True  6.6            0.208955   \n",
       "\n",
       "   death_participation  killing_sprees  cs_permin@0-10  cs_permin@10-20  \\\n",
       "0             0.106383               3               1              2.7   \n",
       "\n",
       "   xp_permin@0-10  xp_permin@10-20  dmgtaken_permin@0-10  \\\n",
       "0           326.2            535.2                 188.2   \n",
       "\n",
       "   dmgtaken_permin@10-20  gold_efficiency  gold_share            role champion  \n",
       "0                  399.4         0.972669    0.193775  BOTTOM_SUPPORT   Xerath  "
      ],
      "text/html": "<div>\n<style scoped>\n    .dataframe tbody tr th:only-of-type {\n        vertical-align: middle;\n    }\n\n    .dataframe tbody tr th {\n        vertical-align: top;\n    }\n\n    .dataframe thead th {\n        text-align: right;\n    }\n</style>\n<table border=\"1\" class=\"dataframe\">\n  <thead>\n    <tr style=\"text-align: right;\">\n      <th></th>\n      <th>summonerName</th>\n      <th>gameId</th>\n      <th>region</th>\n      <th>win</th>\n      <th>kda</th>\n      <th>kill_participation</th>\n      <th>death_participation</th>\n      <th>killing_sprees</th>\n      <th>cs_permin@0-10</th>\n      <th>cs_permin@10-20</th>\n      <th>xp_permin@0-10</th>\n      <th>xp_permin@10-20</th>\n      <th>dmgtaken_permin@0-10</th>\n      <th>dmgtaken_permin@10-20</th>\n      <th>gold_efficiency</th>\n      <th>gold_share</th>\n      <th>role</th>\n      <th>champion</th>\n    </tr>\n  </thead>\n  <tbody>\n    <tr>\n      <th>0</th>\n      <td>ThreeSTAGES</td>\n      <td>5241422413</td>\n      <td>euw1</td>\n      <td>True</td>\n      <td>6.6</td>\n      <td>0.208955</td>\n      <td>0.106383</td>\n      <td>3</td>\n      <td>1</td>\n      <td>2.7</td>\n      <td>326.2</td>\n      <td>535.2</td>\n      <td>188.2</td>\n      <td>399.4</td>\n      <td>0.972669</td>\n      <td>0.193775</td>\n      <td>BOTTOM_SUPPORT</td>\n      <td>Xerath</td>\n    </tr>\n  </tbody>\n</table>\n</div>"
     },
     "metadata": {},
     "execution_count": 395
    }
   ],
   "source": [
    "get_player_stats_from_game(5241422413, 'ThreeSTAGES', 'euw1')"
   ]
  },
  {
   "cell_type": "code",
   "execution_count": 438,
   "metadata": {},
   "outputs": [],
   "source": [
    "def get_player_stats(summonerName, region):\n",
    "    \"\"\"\n",
    "    Takes a summoner name and a region and returns the stats of up to the last 100 games played in the form of dataframe.\n",
    "    \"\"\"\n",
    "    #getting ids of the player\n",
    "    ids = lol_watcher.summoner.by_name(region, summonerName)\n",
    "\n",
    "    #getting the last 100 matches played until May 1st 2021\n",
    "    matches = lol_watcher.match.matchlist_by_account(region = regions['euw'], encrypted_account_id = ids['accountId'], queue = queue_types)\n",
    "\n",
    "    stats_list = []\n",
    "\n",
    "    for i in range(0, len(matches['matches'])):\n",
    "        stats_list.append(get_player_stats_from_game(matches['matches'][i]['gameId'], summonerName, region))\n",
    "    \n",
    "    full_stats = pd.concat(stats_list)\n",
    "\n",
    "    \n",
    "\n",
    "    full_stats = full_stats.groupby(['summonerName']).agg(\n",
    "\n",
    "        #Region??\n",
    "        #Role?? Is role support?\n",
    "        #Champion?? Is champ Yasuo?\n",
    "\n",
    "        #percentage of wins\n",
    "        winrate = ('win', 'mean'),\n",
    "\n",
    "        #check if the most played role is support (support usually have lower in-game stats because of their role)\n",
    "        is_support = ('role', lambda role: True if role.value_counts().index[0] == 'BOTTOM_SUPPORT' else False),\n",
    "\n",
    "        #average and standard deviation to see overall performance and variance in performance\n",
    "        #KDA\n",
    "        avg_kda = ('kda', 'mean'),\n",
    "        std_kda = ('kda', 'std'),\n",
    "\n",
    "        #Kill participation\n",
    "        avg_kp = ('kill_participation', 'mean'),\n",
    "        std_kp = ('kill_participation', 'std'),\n",
    "\n",
    "        #Death participation\n",
    "        avg_dp = ('death_participation', 'mean'),\n",
    "        std_dp = ('death_participation', 'std'),\n",
    "\n",
    "        #killing sprees\n",
    "        avg_killing_sprees = ('killing_sprees', 'mean'),\n",
    "\n",
    "        #CS per min\n",
    "        avg_cspermin_10 = ('cs_permin@0-10', 'mean'),\n",
    "        std_cspermin_10 = ('cs_permin@0-10', 'std'),\n",
    "        avg_cspermin_20 = ('cs_permin@10-20', lambda x: x.dropna().mean()),\n",
    "        std_cspermin_20 = ('cs_permin@10-20', lambda x: x.dropna().std()),\n",
    "\n",
    "        #XP per min\n",
    "        avg_xppermin_10 = ('xp_permin@0-10', 'mean'),\n",
    "        std_xppermin_10 = ('xp_permin@0-10', 'std'),\n",
    "        avg_xppermin_20 = ('xp_permin@10-20', lambda x: x.dropna().mean()),\n",
    "        std_xppermin_20 = ('xp_permin@10-20', lambda x: x.dropna().std()),\n",
    "\n",
    "        #Damage taken per min\n",
    "        avg_dmg_takenpermin_10 = ('dmgtaken_permin@0-10', 'mean'),\n",
    "        std_dmg_takenpermin_10 = ('dmgtaken_permin@0-10', 'std'),\n",
    "        avg_dmg_takenpermin_20 = ('dmgtaken_permin@10-20', lambda x: x.dropna().mean()),\n",
    "        std_dmg_takenpermin_20 = ('dmgtaken_permin@10-20', lambda x: x.dropna().std()),\n",
    "\n",
    "        #Gold share\n",
    "        avg_gold_share = ('gold_share', 'mean'),\n",
    "        std_gold_share = ('gold_share', 'std'),\n",
    "\n",
    "        #Gold efficiency\n",
    "        avg_gold_efficiency = ('gold_efficiency', 'mean'),\n",
    "        std_gold_efficiency = ('gold_efficiency', 'std'),\n",
    "    )\n",
    "\n",
    "    full_stats['summoner_lvl'] = ids['summonerLevel']\n",
    "\n",
    "    return full_stats"
   ]
  },
  {
   "cell_type": "code",
   "execution_count": 439,
   "metadata": {},
   "outputs": [
    {
     "output_type": "error",
     "ename": "HTTPError",
     "evalue": "504 Server Error: Gateway Timeout for url: https://euw1.api.riotgames.com/lol/match/v4/matches/5243656058",
     "traceback": [
      "\u001b[1;31m---------------------------------------------------------------------------\u001b[0m",
      "\u001b[1;31mHTTPError\u001b[0m                                 Traceback (most recent call last)",
      "\u001b[1;32mc:\\Users\\theot\\Downloads\\EDHEC\\Master project\\LoL-Analytics\\lib\\site-packages\\riotwatcher\\Handlers\\ThrowOnErrorHandler.py\u001b[0m in \u001b[0;36mafter_request\u001b[1;34m(self, region, endpoint_name, method_name, url, response)\u001b[0m\n\u001b[0;32m     17\u001b[0m         \u001b[1;32mtry\u001b[0m\u001b[1;33m:\u001b[0m\u001b[1;33m\u001b[0m\u001b[1;33m\u001b[0m\u001b[0m\n\u001b[1;32m---> 18\u001b[1;33m             \u001b[0mresponse\u001b[0m\u001b[1;33m.\u001b[0m\u001b[0mraise_for_status\u001b[0m\u001b[1;33m(\u001b[0m\u001b[1;33m)\u001b[0m\u001b[1;33m\u001b[0m\u001b[1;33m\u001b[0m\u001b[0m\n\u001b[0m\u001b[0;32m     19\u001b[0m         \u001b[1;32mexcept\u001b[0m \u001b[0mrequests\u001b[0m\u001b[1;33m.\u001b[0m\u001b[0mHTTPError\u001b[0m \u001b[1;32mas\u001b[0m \u001b[0merr\u001b[0m\u001b[1;33m:\u001b[0m\u001b[1;33m\u001b[0m\u001b[1;33m\u001b[0m\u001b[0m\n",
      "\u001b[1;32mc:\\Users\\theot\\Downloads\\EDHEC\\Master project\\LoL-Analytics\\lib\\site-packages\\requests\\models.py\u001b[0m in \u001b[0;36mraise_for_status\u001b[1;34m(self)\u001b[0m\n\u001b[0;32m    942\u001b[0m         \u001b[1;32mif\u001b[0m \u001b[0mhttp_error_msg\u001b[0m\u001b[1;33m:\u001b[0m\u001b[1;33m\u001b[0m\u001b[1;33m\u001b[0m\u001b[0m\n\u001b[1;32m--> 943\u001b[1;33m             \u001b[1;32mraise\u001b[0m \u001b[0mHTTPError\u001b[0m\u001b[1;33m(\u001b[0m\u001b[0mhttp_error_msg\u001b[0m\u001b[1;33m,\u001b[0m \u001b[0mresponse\u001b[0m\u001b[1;33m=\u001b[0m\u001b[0mself\u001b[0m\u001b[1;33m)\u001b[0m\u001b[1;33m\u001b[0m\u001b[1;33m\u001b[0m\u001b[0m\n\u001b[0m\u001b[0;32m    944\u001b[0m \u001b[1;33m\u001b[0m\u001b[0m\n",
      "\u001b[1;31mHTTPError\u001b[0m: 504 Server Error: Gateway Timeout for url: https://euw1.api.riotgames.com/lol/match/v4/matches/5243656058",
      "\nDuring handling of the above exception, another exception occurred:\n",
      "\u001b[1;31mHTTPError\u001b[0m                                 Traceback (most recent call last)",
      "\u001b[1;32m<ipython-input-439-c90c25ba86f7>\u001b[0m in \u001b[0;36m<module>\u001b[1;34m\u001b[0m\n\u001b[1;32m----> 1\u001b[1;33m \u001b[0mget_player_stats\u001b[0m\u001b[1;33m(\u001b[0m\u001b[1;34m'threestages'\u001b[0m\u001b[1;33m,\u001b[0m \u001b[1;34m'euw1'\u001b[0m\u001b[1;33m)\u001b[0m\u001b[1;33m\u001b[0m\u001b[1;33m\u001b[0m\u001b[0m\n\u001b[0m",
      "\u001b[1;32m<ipython-input-438-d8613f1a827b>\u001b[0m in \u001b[0;36mget_player_stats\u001b[1;34m(summonerName, region)\u001b[0m\n\u001b[0;32m     12\u001b[0m \u001b[1;33m\u001b[0m\u001b[0m\n\u001b[0;32m     13\u001b[0m     \u001b[1;32mfor\u001b[0m \u001b[0mi\u001b[0m \u001b[1;32min\u001b[0m \u001b[0mrange\u001b[0m\u001b[1;33m(\u001b[0m\u001b[1;36m0\u001b[0m\u001b[1;33m,\u001b[0m \u001b[0mlen\u001b[0m\u001b[1;33m(\u001b[0m\u001b[0mmatches\u001b[0m\u001b[1;33m[\u001b[0m\u001b[1;34m'matches'\u001b[0m\u001b[1;33m]\u001b[0m\u001b[1;33m)\u001b[0m\u001b[1;33m)\u001b[0m\u001b[1;33m:\u001b[0m\u001b[1;33m\u001b[0m\u001b[1;33m\u001b[0m\u001b[0m\n\u001b[1;32m---> 14\u001b[1;33m         \u001b[0mstats_list\u001b[0m\u001b[1;33m.\u001b[0m\u001b[0mappend\u001b[0m\u001b[1;33m(\u001b[0m\u001b[0mget_player_stats_from_game\u001b[0m\u001b[1;33m(\u001b[0m\u001b[0mmatches\u001b[0m\u001b[1;33m[\u001b[0m\u001b[1;34m'matches'\u001b[0m\u001b[1;33m]\u001b[0m\u001b[1;33m[\u001b[0m\u001b[0mi\u001b[0m\u001b[1;33m]\u001b[0m\u001b[1;33m[\u001b[0m\u001b[1;34m'gameId'\u001b[0m\u001b[1;33m]\u001b[0m\u001b[1;33m,\u001b[0m \u001b[0msummonerName\u001b[0m\u001b[1;33m,\u001b[0m \u001b[0mregion\u001b[0m\u001b[1;33m)\u001b[0m\u001b[1;33m)\u001b[0m\u001b[1;33m\u001b[0m\u001b[1;33m\u001b[0m\u001b[0m\n\u001b[0m\u001b[0;32m     15\u001b[0m \u001b[1;33m\u001b[0m\u001b[0m\n\u001b[0;32m     16\u001b[0m     \u001b[0mfull_stats\u001b[0m \u001b[1;33m=\u001b[0m \u001b[0mpd\u001b[0m\u001b[1;33m.\u001b[0m\u001b[0mconcat\u001b[0m\u001b[1;33m(\u001b[0m\u001b[0mstats_list\u001b[0m\u001b[1;33m)\u001b[0m\u001b[1;33m\u001b[0m\u001b[1;33m\u001b[0m\u001b[0m\n",
      "\u001b[1;32m<ipython-input-433-2afe31d1fc60>\u001b[0m in \u001b[0;36mget_player_stats_from_game\u001b[1;34m(gameId, summonerName, region)\u001b[0m\n\u001b[0;32m      6\u001b[0m \u001b[1;33m\u001b[0m\u001b[0m\n\u001b[0;32m      7\u001b[0m     \u001b[1;31m#API request to get the match info\u001b[0m\u001b[1;33m\u001b[0m\u001b[1;33m\u001b[0m\u001b[1;33m\u001b[0m\u001b[0m\n\u001b[1;32m----> 8\u001b[1;33m     \u001b[0mgame\u001b[0m \u001b[1;33m=\u001b[0m \u001b[0mlol_watcher\u001b[0m\u001b[1;33m.\u001b[0m\u001b[0mmatch\u001b[0m\u001b[1;33m.\u001b[0m\u001b[0mby_id\u001b[0m\u001b[1;33m(\u001b[0m\u001b[0mregion\u001b[0m\u001b[1;33m,\u001b[0m \u001b[0mgameId\u001b[0m\u001b[1;33m)\u001b[0m\u001b[1;33m\u001b[0m\u001b[1;33m\u001b[0m\u001b[0m\n\u001b[0m\u001b[0;32m      9\u001b[0m \u001b[1;33m\u001b[0m\u001b[0m\n\u001b[0;32m     10\u001b[0m     \u001b[1;31m#Initiating variables\u001b[0m\u001b[1;33m\u001b[0m\u001b[1;33m\u001b[0m\u001b[1;33m\u001b[0m\u001b[0m\n",
      "\u001b[1;32mc:\\Users\\theot\\Downloads\\EDHEC\\Master project\\LoL-Analytics\\lib\\site-packages\\riotwatcher\\_apis\\league_of_legends\\MatchApiV4.py\u001b[0m in \u001b[0;36mby_id\u001b[1;34m(self, region, match_id)\u001b[0m\n\u001b[0;32m     29\u001b[0m         \u001b[1;33m:\u001b[0m\u001b[0mreturns\u001b[0m\u001b[1;33m:\u001b[0m \u001b[0mMatchDto\u001b[0m\u001b[1;33m\u001b[0m\u001b[1;33m\u001b[0m\u001b[0m\n\u001b[0;32m     30\u001b[0m         \"\"\"\n\u001b[1;32m---> 31\u001b[1;33m         return self._request_endpoint(\n\u001b[0m\u001b[0;32m     32\u001b[0m             \u001b[0mself\u001b[0m\u001b[1;33m.\u001b[0m\u001b[0mby_id\u001b[0m\u001b[1;33m.\u001b[0m\u001b[0m__name__\u001b[0m\u001b[1;33m,\u001b[0m \u001b[0mregion\u001b[0m\u001b[1;33m,\u001b[0m \u001b[0mMatchApiV4Urls\u001b[0m\u001b[1;33m.\u001b[0m\u001b[0mby_id\u001b[0m\u001b[1;33m,\u001b[0m \u001b[0mmatch_id\u001b[0m\u001b[1;33m=\u001b[0m\u001b[0mmatch_id\u001b[0m\u001b[1;33m\u001b[0m\u001b[1;33m\u001b[0m\u001b[0m\n\u001b[0;32m     33\u001b[0m         )\n",
      "\u001b[1;32mc:\\Users\\theot\\Downloads\\EDHEC\\Master project\\LoL-Analytics\\lib\\site-packages\\riotwatcher\\_apis\\NamedEndpoint.py\u001b[0m in \u001b[0;36m_request_endpoint\u001b[1;34m(self, method_name, region, endpoint, **kwargs)\u001b[0m\n\u001b[0;32m     33\u001b[0m         \"\"\"\n\u001b[0;32m     34\u001b[0m         \u001b[0murl\u001b[0m\u001b[1;33m,\u001b[0m \u001b[0mquery\u001b[0m \u001b[1;33m=\u001b[0m \u001b[0mendpoint\u001b[0m\u001b[1;33m(\u001b[0m\u001b[0mplatform\u001b[0m\u001b[1;33m=\u001b[0m\u001b[0mregion\u001b[0m\u001b[1;33m,\u001b[0m \u001b[1;33m**\u001b[0m\u001b[0mkwargs\u001b[0m\u001b[1;33m)\u001b[0m\u001b[1;33m\u001b[0m\u001b[1;33m\u001b[0m\u001b[0m\n\u001b[1;32m---> 35\u001b[1;33m         return self._base_api.raw_request(\n\u001b[0m\u001b[0;32m     36\u001b[0m             \u001b[0mself\u001b[0m\u001b[1;33m.\u001b[0m\u001b[0m_endpoint_name\u001b[0m\u001b[1;33m,\u001b[0m \u001b[0mmethod_name\u001b[0m\u001b[1;33m,\u001b[0m \u001b[0mregion\u001b[0m\u001b[1;33m,\u001b[0m \u001b[0murl\u001b[0m\u001b[1;33m,\u001b[0m \u001b[0mquery\u001b[0m\u001b[1;33m\u001b[0m\u001b[1;33m\u001b[0m\u001b[0m\n\u001b[0;32m     37\u001b[0m         )\n",
      "\u001b[1;32mc:\\Users\\theot\\Downloads\\EDHEC\\Master project\\LoL-Analytics\\lib\\site-packages\\riotwatcher\\_apis\\BaseApi.py\u001b[0m in \u001b[0;36mraw_request\u001b[1;34m(self, endpoint_name, method_name, region, url, query_params)\u001b[0m\n\u001b[0;32m     48\u001b[0m         \u001b[1;32mif\u001b[0m \u001b[0mself\u001b[0m\u001b[1;33m.\u001b[0m\u001b[0m_request_handlers\u001b[0m \u001b[1;32mis\u001b[0m \u001b[1;32mnot\u001b[0m \u001b[1;32mNone\u001b[0m\u001b[1;33m:\u001b[0m\u001b[1;33m\u001b[0m\u001b[1;33m\u001b[0m\u001b[0m\n\u001b[0;32m     49\u001b[0m             \u001b[1;32mfor\u001b[0m \u001b[0mhandler\u001b[0m \u001b[1;32min\u001b[0m \u001b[0mself\u001b[0m\u001b[1;33m.\u001b[0m\u001b[0m_request_handlers\u001b[0m\u001b[1;33m[\u001b[0m\u001b[0mearly_ret_idx\u001b[0m\u001b[1;33m:\u001b[0m\u001b[1;32mNone\u001b[0m\u001b[1;33m:\u001b[0m\u001b[1;33m-\u001b[0m\u001b[1;36m1\u001b[0m\u001b[1;33m]\u001b[0m\u001b[1;33m:\u001b[0m\u001b[1;33m\u001b[0m\u001b[1;33m\u001b[0m\u001b[0m\n\u001b[1;32m---> 50\u001b[1;33m                 mod = handler.after_request(\n\u001b[0m\u001b[0;32m     51\u001b[0m                     \u001b[0mregion\u001b[0m\u001b[1;33m,\u001b[0m \u001b[0mendpoint_name\u001b[0m\u001b[1;33m,\u001b[0m \u001b[0mmethod_name\u001b[0m\u001b[1;33m,\u001b[0m \u001b[0murl\u001b[0m\u001b[1;33m,\u001b[0m \u001b[0mresponse\u001b[0m\u001b[1;33m\u001b[0m\u001b[1;33m\u001b[0m\u001b[0m\n\u001b[0;32m     52\u001b[0m                 )\n",
      "\u001b[1;32mc:\\Users\\theot\\Downloads\\EDHEC\\Master project\\LoL-Analytics\\lib\\site-packages\\riotwatcher\\Handlers\\ThrowOnErrorHandler.py\u001b[0m in \u001b[0;36mafter_request\u001b[1;34m(self, region, endpoint_name, method_name, url, response)\u001b[0m\n\u001b[0;32m     18\u001b[0m             \u001b[0mresponse\u001b[0m\u001b[1;33m.\u001b[0m\u001b[0mraise_for_status\u001b[0m\u001b[1;33m(\u001b[0m\u001b[1;33m)\u001b[0m\u001b[1;33m\u001b[0m\u001b[1;33m\u001b[0m\u001b[0m\n\u001b[0;32m     19\u001b[0m         \u001b[1;32mexcept\u001b[0m \u001b[0mrequests\u001b[0m\u001b[1;33m.\u001b[0m\u001b[0mHTTPError\u001b[0m \u001b[1;32mas\u001b[0m \u001b[0merr\u001b[0m\u001b[1;33m:\u001b[0m\u001b[1;33m\u001b[0m\u001b[1;33m\u001b[0m\u001b[0m\n\u001b[1;32m---> 20\u001b[1;33m             \u001b[1;32mraise\u001b[0m \u001b[0mApiError\u001b[0m\u001b[1;33m(\u001b[0m\u001b[1;33m*\u001b[0m\u001b[0merr\u001b[0m\u001b[1;33m.\u001b[0m\u001b[0margs\u001b[0m\u001b[1;33m,\u001b[0m \u001b[0mrequest\u001b[0m\u001b[1;33m=\u001b[0m\u001b[0merr\u001b[0m\u001b[1;33m.\u001b[0m\u001b[0mrequest\u001b[0m\u001b[1;33m,\u001b[0m \u001b[0mresponse\u001b[0m\u001b[1;33m=\u001b[0m\u001b[0merr\u001b[0m\u001b[1;33m.\u001b[0m\u001b[0mresponse\u001b[0m\u001b[1;33m)\u001b[0m\u001b[1;33m\u001b[0m\u001b[1;33m\u001b[0m\u001b[0m\n\u001b[0m",
      "\u001b[1;31mHTTPError\u001b[0m: 504 Server Error: Gateway Timeout for url: https://euw1.api.riotgames.com/lol/match/v4/matches/5243656058"
     ]
    }
   ],
   "source": [
    "get_player_stats('threestages', 'euw1')"
   ]
  },
  {
   "cell_type": "code",
   "execution_count": 430,
   "metadata": {},
   "outputs": [],
   "source": [
    "game1 = lol_watcher.match.by_id(regions['euw'], matches['matches'][2]['gameId'])"
   ]
  },
  {
   "cell_type": "code",
   "execution_count": 408,
   "metadata": {},
   "outputs": [
    {
     "output_type": "execute_result",
     "data": {
      "text/plain": [
       "6.4"
      ]
     },
     "metadata": {},
     "execution_count": 408
    }
   ],
   "source": [
    "\n",
    "game1['participants'][8]['timeline']['creepsPerMinDeltas']['10-20']"
   ]
  },
  {
   "cell_type": "code",
   "execution_count": 431,
   "metadata": {},
   "outputs": [
    {
     "output_type": "execute_result",
     "data": {
      "text/plain": [
       "1663"
      ]
     },
     "metadata": {},
     "execution_count": 431
    }
   ],
   "source": [
    "game1['gameDuration']"
   ]
  },
  {
   "cell_type": "code",
   "execution_count": 391,
   "metadata": {},
   "outputs": [],
   "source": [
    "matches = lol_watcher.match.matchlist_by_account(region = regions['euw'], encrypted_account_id = ids['accountId'], queue = queue_types)"
   ]
  },
  {
   "cell_type": "code",
   "execution_count": 401,
   "metadata": {},
   "outputs": [],
   "source": [
    "test = []"
   ]
  },
  {
   "cell_type": "code",
   "execution_count": 404,
   "metadata": {},
   "outputs": [],
   "source": [
    "test[.append(1)]"
   ]
  },
  {
   "cell_type": "code",
   "execution_count": 429,
   "metadata": {},
   "outputs": [
    {
     "output_type": "execute_result",
     "data": {
      "text/plain": [
       "{'platformId': 'EUW1',\n",
       " 'gameId': 5244976709,\n",
       " 'champion': 121,\n",
       " 'queue': 400,\n",
       " 'season': 13,\n",
       " 'timestamp': 1619961468226,\n",
       " 'role': 'NONE',\n",
       " 'lane': 'JUNGLE'}"
      ]
     },
     "metadata": {},
     "execution_count": 429
    }
   ],
   "source": [
    "len(matches['matches'])"
   ]
  }
 ],
 "metadata": {
  "kernelspec": {
   "name": "python388jvsc74a57bd0b5e2c34a644a748a387cdd99314a9cb6eb56da264db619dc163d6f3a62dcf560",
   "display_name": "Python 3.8.8 64-bit ('LoL-Analytics': venv)"
  },
  "language_info": {
   "codemirror_mode": {
    "name": "ipython",
    "version": 3
   },
   "file_extension": ".py",
   "mimetype": "text/x-python",
   "name": "python",
   "nbconvert_exporter": "python",
   "pygments_lexer": "ipython3",
   "version": "3.8.8"
  },
  "nav_menu": {},
  "toc": {
   "navigate_menu": true,
   "number_sections": true,
   "sideBar": true,
   "threshold": 6,
   "toc_cell": false,
   "toc_section_display": "block",
   "toc_window_display": false
  }
 },
 "nbformat": 4,
 "nbformat_minor": 4
}